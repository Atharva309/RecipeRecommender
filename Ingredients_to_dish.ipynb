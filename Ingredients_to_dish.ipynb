{
  "nbformat": 4,
  "nbformat_minor": 0,
  "metadata": {
    "colab": {
      "provenance": [],
      "authorship_tag": "ABX9TyNXb+gIkCsCs3XvpcsZe4Mc"
    },
    "kernelspec": {
      "name": "python3",
      "display_name": "Python 3"
    },
    "language_info": {
      "name": "python"
    }
  },
  "cells": [
    {
      "cell_type": "code",
      "execution_count": 1,
      "metadata": {
        "colab": {
          "base_uri": "https://localhost:8080/"
        },
        "id": "qg6fp9vNdF6b",
        "outputId": "7264bee7-7db0-4256-baae-5c3b0af2609e"
      },
      "outputs": [
        {
          "output_type": "stream",
          "name": "stdout",
          "text": [
            "Archive:  /content/RAW_recipes.csv.zip\n",
            "  inflating: /content/RAW_recipes.csv/RAW_recipes.csv  \n",
            "  inflating: /content/RAW_recipes.csv/__MACOSX/._RAW_recipes.csv  \n"
          ]
        }
      ],
      "source": [
        "!unzip /content/RAW_recipes.csv.zip -d /content/RAW_recipes.csv"
      ]
    },
    {
      "cell_type": "code",
      "source": [
        "import pandas as pd\n",
        "from sklearn.feature_extraction.text import TfidfVectorizer\n",
        "from sklearn.metrics.pairwise import cosine_similarity\n",
        "\n",
        "# Load the dataset of recipes\n",
        "recipes_df = pd.read_csv(\"/content/RAW_recipes.csv/RAW_recipes.csv\")\n",
        "\n",
        "# Create a TF-IDF vectorizer for the ingredients\n",
        "vectorizer = TfidfVectorizer()\n",
        "\n",
        "# Generate feature vectors for all recipes\n",
        "recipe_vectors = vectorizer.fit_transform(recipes_df['ingredients'])\n",
        "\n",
        "def get_recommendations(ingredient_list):\n",
        "    # Combine the ingredient list into a single string\n",
        "    # Generate a feature vector for the input ingredient list\n",
        "    # Compute cosine similarities between input vector and recipe vectors\n",
        "    # Get indices of top 10 most similar recipes\n",
        "    # Retrieve names of recommended recipes\n",
        "    ingredient_str = ' '.join(ingredient_list)\n",
        "    input_vector = vectorizer.transform([ingredient_str])\n",
        "    cosine_similarities = cosine_similarity(input_vector, recipe_vectors)\n",
        "    top_indices = cosine_similarities.argsort()[0][-10:][::-1]\n",
        "    recommended_names = recipes_df.iloc[top_indices]['name'].tolist()\n",
        "    return recommended_names\n",
        "\n",
        "\n"
      ],
      "metadata": {
        "id": "j4-AO3BAm217"
      },
      "execution_count": 20,
      "outputs": []
    },
    {
      "cell_type": "code",
      "source": [
        "# Test the recommendation function\n",
        "ingredient_list = ['winter squash', 'mexican seasoning', 'mixed spice', 'honey', 'butter', 'olive oil', 'salt']\n",
        "recommendations = get_recommendations(ingredient_list)\n",
        "print(recommendations)\n"
      ],
      "metadata": {
        "colab": {
          "base_uri": "https://localhost:8080/"
        },
        "id": "1DkO2_2kn3Bs",
        "outputId": "abf0dc4a-3d08-4e9c-ecae-c537ceb9d6f3"
      },
      "execution_count": 21,
      "outputs": [
        {
          "output_type": "stream",
          "name": "stdout",
          "text": [
            "['arriba   baked winter squash mexican style', 'squashed squash   hubbard or butternut', 'winter squash in coconut milk   fusion soup', 'winter squash dinner rolls', 'orange winter squash casserole', 'winter squash muffins', 'fakeout healthy mac and cheese', 'gratin of winter squash or rutabaga', 'wonderful winter squash risotto', 'savory winter squash casserole']\n"
          ]
        }
      ]
    },
    {
      "cell_type": "code",
      "source": [
        "# Test the recommendation function\n",
        "ingredient_list = ['fennel seeds', 'green olives', 'ripe olives', 'garlic', 'peppercorn', 'orange rind', 'orange juice', 'red chile', 'extra virgin olive oil']\n",
        "recommendations = get_recommendations(ingredient_list)\n",
        "print(recommendations)"
      ],
      "metadata": {
        "colab": {
          "base_uri": "https://localhost:8080/"
        },
        "id": "mwUvn5Uyq9Io",
        "outputId": "06779152-d1e0-4621-9ee3-4656772a9d9f"
      },
      "execution_count": 22,
      "outputs": [
        {
          "output_type": "stream",
          "name": "stdout",
          "text": [
            "['aww  marinated olives', 'provencal olives', 'marinated chilli olives', 'carol s muffalletto', 'marmie s easy roasted fennel with onion', 'moroccan spiced green olives', 'marinated feta cheese with orange  green olives  and garlic', 'orange butter  2', 'roasted black olives and pearl onions', 'simmered chili olives']\n"
          ]
        }
      ]
    },
    {
      "cell_type": "code",
      "source": [
        "# Test the recommendation function\n",
        "ingredient_list = ['canola oil', 'onion', 'garlic', 'cauliflower', 'potatoes', 'vegetable bouillon cubes', 'water', 'salt free herb and spice seasoning mix', 'ground coriander', 'great northern bean', 'salt and pepper', 'broccoli floret', 'escarole', 'green peas', 'red bell pepper', 'fresh herb']\n",
        "recommendations = get_recommendations(ingredient_list)\n",
        "print(recommendations)"
      ],
      "metadata": {
        "colab": {
          "base_uri": "https://localhost:8080/"
        },
        "id": "ft8u2b97rJpO",
        "outputId": "3950c17b-f0ef-4a41-e2e9-17911679bd3d"
      },
      "execution_count": 24,
      "outputs": [
        {
          "output_type": "stream",
          "name": "stdout",
          "text": [
            "['cream  of cauliflower soup  vegan', 'breaded fried chicken', 'grandma terry s southern beans', 'fabulous pepper steak', 'microwave garlic potatoes', 'garlic and red potatoes en papillote', 'magnificent mashed potatoes with olive oil and herbs', 'roasted garlic and garlic oil the easy way', 'cheese and trees soup', 'stewed potatoes']\n"
          ]
        }
      ]
    }
  ]
}